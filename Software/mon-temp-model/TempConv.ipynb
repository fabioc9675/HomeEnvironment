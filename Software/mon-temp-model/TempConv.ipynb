{
 "cells": [
  {
   "cell_type": "code",
   "execution_count": 1,
   "metadata": {},
   "outputs": [
    {
     "name": "stdout",
     "output_type": "stream",
     "text": [
      "Comenzando entrenamiento...\n",
      "Modelo entrenado!\n"
     ]
    }
   ],
   "source": [
    "#Codigo general\n",
    "#Ver tutorial: https://youtu.be/iX_on3VxZzk\n",
    "\n",
    "import tensorflow as tf\n",
    "import numpy as np\n",
    "\n",
    "\n",
    "celsius = np.array([-20, -30, -40, -10, 5, 0, 8, 15, 25, 32, 22, 16, 42, 37, 35], dtype=float)\n",
    "fahrenheit = np.array([-4, -22, -40, 14, 41, 32, 46.4, 59, 77, 89.6, 71.6, 60.8, 107.6, 98.6, 95], dtype=float)\n",
    "\n",
    "oculta1 = tf.keras.layers.Dense(units=3, input_shape=[1])\n",
    "oculta2 = tf.keras.layers.Dense(units=3)\n",
    "salida = tf.keras.layers.Dense(units=1)\n",
    "modelo = tf.keras.Sequential([oculta1, oculta2, salida])\n",
    "\n",
    "modelo.compile(\n",
    "    optimizer=tf.keras.optimizers.Adam(0.01),\n",
    "    loss='mean_squared_error'\n",
    ")\n",
    "\n",
    "print(\"Comenzando entrenamiento...\")\n",
    "historial = modelo.fit(celsius, fahrenheit, epochs=300, verbose=False)\n",
    "print(\"Modelo entrenado!\")"
   ]
  },
  {
   "cell_type": "code",
   "execution_count": 4,
   "metadata": {},
   "outputs": [
    {
     "name": "stdout",
     "output_type": "stream",
     "text": [
      "Prediccion: 100 grados celsius son [[211.97374]] fahrenheit!\n"
     ]
    }
   ],
   "source": [
    "resultado = modelo.predict([100.0])\n",
    "print(\"Prediccion: 100 grados celsius son \" + str(resultado) + \" fahrenheit!\")"
   ]
  },
  {
   "cell_type": "code",
   "execution_count": 6,
   "metadata": {},
   "outputs": [],
   "source": [
    "#Exportar el modelo en formato h5\n",
    "modelo.save('celsius_to_fahrenheit.h5')"
   ]
  },
  {
   "cell_type": "code",
   "execution_count": 8,
   "metadata": {},
   "outputs": [
    {
     "name": "stdout",
     "output_type": "stream",
     "text": [
      "/System/Library/Frameworks/Python.framework/Versions/2.7/Extras/lib/python/OpenSSL/crypto.py:12: CryptographyDeprecationWarning: Python 2 is no longer supported by the Python core team. Support for it is now deprecated in cryptography, and will be removed in the next release.\n",
      "  from cryptography import x509\n",
      "\u001b[33mDEPRECATION: Python 2.7 reached the end of its life on January 1st, 2020. Please upgrade your Python as Python 2.7 is no longer maintained. A future version of pip will drop support for Python 2.7. More details about Python 2 support in pip, can be found at https://pip.pypa.io/en/latest/development/release-process/#python-2-support\u001b[0m\n",
      "Defaulting to user installation because normal site-packages is not writeable\n",
      "Collecting tensorflowjs\n",
      "  Downloading tensorflowjs-3.18.0-py2-none-any.whl (77 kB)\n",
      "\u001b[K     |████████████████████████████████| 77 kB 355 kB/s eta 0:00:01\n",
      "\u001b[?25hCollecting tensorflow<3,>=2.1.0\n",
      "  Downloading tensorflow-2.1.0-cp27-cp27m-macosx_10_11_x86_64.whl (120.8 MB)\n",
      "\u001b[K     |████████████████████████████████| 120.8 MB 5.8 kB/s eta 0:00:011  |▋                               | 2.3 MB 576 kB/s eta 0:03:26     |▉                               | 3.3 MB 2.1 MB/s eta 0:00:57     |█▉                              | 6.9 MB 3.0 MB/s eta 0:00:38     |████▉                           | 18.4 MB 4.7 MB/s eta 0:00:22     |███████▏                        | 27.0 MB 54 kB/s eta 0:28:33     |█████████████▋                  | 51.4 MB 4.5 MB/s eta 0:00:16     |█████████████▉                  | 52.1 MB 4.5 MB/s eta 0:00:16     |██████████████▉                 | 55.9 MB 1.9 MB/s eta 0:00:36     |█████████████████▏              | 64.8 MB 12.7 MB/s eta 0:00:05     |████████████████████████▊       | 93.4 MB 6.7 MB/s eta 0:00:05     |██████████████████████████▉     | 101.5 MB 224 kB/s eta 0:01:27     |███████████████████████████▍    | 103.3 MB 8.7 MB/s eta 0:00:03     |██████████████████████████████▋ | 115.6 MB 16.0 MB/s eta 0:00:01\n",
      "\u001b[?25hCollecting protobuf==3.17.3\n",
      "  Downloading protobuf-3.17.3-cp27-cp27m-macosx_10_9_x86_64.whl (1.0 MB)\n",
      "\u001b[K     |████████████████████████████████| 1.0 MB 18.3 MB/s eta 0:00:01\n",
      "\u001b[?25hCollecting packaging~=20.9\n",
      "  Downloading packaging-20.9-py2.py3-none-any.whl (40 kB)\n",
      "\u001b[K     |████████████████████████████████| 40 kB 38 kB/s s eta 0:00:01\n",
      "\u001b[?25hRequirement already satisfied: six<2,>=1.12.0 in /System/Library/Frameworks/Python.framework/Versions/2.7/Extras/lib/python (from tensorflowjs) (1.12.0)\n",
      "Collecting grpcio==1.39.0\n",
      "  Downloading grpcio-1.39.0-cp27-cp27m-macosx_10_10_x86_64.whl (3.9 MB)\n",
      "\u001b[K     |████████████████████████████████| 3.9 MB 131 kB/s eta 0:00:01\n",
      "\u001b[?25hCollecting tensorflow-hub<0.10,>=0.7.0\n",
      "  Downloading tensorflow_hub-0.9.0-py2.py3-none-any.whl (103 kB)\n",
      "\u001b[K     |████████████████████████████████| 103 kB 1.7 MB/s eta 0:00:01\n",
      "\u001b[?25hCollecting regex<2022.1.18\n",
      "  Downloading regex-2021.11.10.tar.gz (702 kB)\n",
      "\u001b[K     |████████████████████████████████| 702 kB 11.8 MB/s eta 0:00:01\n",
      "\u001b[?25hCollecting keras-preprocessing>=1.1.0\n",
      "  Downloading Keras_Preprocessing-1.1.2-py2.py3-none-any.whl (42 kB)\n",
      "\u001b[K     |████████████████████████████████| 42 kB 142 kB/s  eta 0:00:01\n",
      "\u001b[?25hCollecting termcolor>=1.1.0\n",
      "  Downloading termcolor-1.1.0.tar.gz (3.9 kB)\n",
      "Collecting opt-einsum>=2.3.2\n",
      "  Downloading opt_einsum-2.3.2.tar.gz (59 kB)\n",
      "\u001b[K     |████████████████████████████████| 59 kB 806 kB/s  eta 0:00:01\n",
      "\u001b[?25hCollecting gast==0.2.2\n",
      "  Downloading gast-0.2.2.tar.gz (10 kB)\n",
      "Collecting keras-applications>=1.0.8\n",
      "  Downloading Keras_Applications-1.0.8.tar.gz (289 kB)\n",
      "\u001b[K     |████████████████████████████████| 289 kB 18.7 MB/s eta 0:00:01\n",
      "\u001b[?25hRequirement already satisfied: numpy<2.0,>=1.16.0 in /Users/fabiancastano/Library/Python/2.7/lib/python/site-packages (from tensorflow<3,>=2.1.0->tensorflowjs) (1.16.1)\n",
      "Requirement already satisfied: functools32>=3.2.3; python_version < \"3\" in /Users/fabiancastano/Library/Python/2.7/lib/python/site-packages (from tensorflow<3,>=2.1.0->tensorflowjs) (3.2.3.post2)\n",
      "Requirement already satisfied: wheel; python_version < \"3\" in /System/Library/Frameworks/Python.framework/Versions/2.7/Extras/lib/python (from tensorflow<3,>=2.1.0->tensorflowjs) (0.33.1)\n",
      "Collecting tensorflow-estimator<2.2.0,>=2.1.0rc0\n",
      "  Downloading tensorflow_estimator-2.1.0-py2.py3-none-any.whl (448 kB)\n",
      "\u001b[K     |████████████████████████████████| 448 kB 5.4 MB/s eta 0:00:01�█████████████████████████  | 419 kB 5.4 MB/s eta 0:00:01\n",
      "\u001b[?25hCollecting mock>=2.0.0; python_version < \"3\"\n",
      "  Downloading mock-3.0.5-py2.py3-none-any.whl (25 kB)\n",
      "Collecting absl-py>=0.7.0\n",
      "  Downloading absl-py-0.15.0.tar.gz (114 kB)\n",
      "\u001b[K     |████████████████████████████████| 114 kB 5.0 MB/s eta 0:00:01\n",
      "\u001b[?25hCollecting tensorboard<2.2.0,>=2.1.0\n",
      "  Downloading tensorboard-2.1.0-py2-none-any.whl (3.8 MB)\n",
      "\u001b[K     |████████████████████████████████| 3.8 MB 80 kB/s eta 0:00:015\n",
      "\u001b[?25hRequirement already satisfied: enum34>=1.1.6; python_version < \"3.4\" in /System/Library/Frameworks/Python.framework/Versions/2.7/Extras/lib/python (from tensorflow<3,>=2.1.0->tensorflowjs) (1.1.6)\n",
      "Collecting scipy==1.2.2; python_version < \"3\"\n",
      "  Downloading scipy-1.2.2-cp27-cp27m-macosx_10_6_intel.macosx_10_9_intel.macosx_10_9_x86_64.macosx_10_10_intel.macosx_10_10_x86_64.whl (27.4 MB)\n",
      "\u001b[K     |████████████████████████████████| 27.4 MB 30 kB/s eta 0:00:011     |██████████████████████████▉     | 22.9 MB 12 kB/s eta 0:06:06\n",
      "\u001b[?25hCollecting astor>=0.6.0\n",
      "  Downloading astor-0.8.1-py2.py3-none-any.whl (27 kB)\n",
      "Collecting backports.weakref>=1.0rc1; python_version < \"3.4\"\n",
      "  Downloading backports.weakref-1.0.post1-py2.py3-none-any.whl (5.2 kB)\n",
      "Collecting wrapt>=1.11.1\n",
      "  Downloading wrapt-1.14.1-cp27-cp27m-macosx_10_9_x86_64.whl (35 kB)\n",
      "Collecting google-pasta>=0.1.6\n",
      "  Downloading google_pasta-0.2.0-py2-none-any.whl (57 kB)\n",
      "\u001b[K     |████████████████████████████████| 57 kB 4.7 MB/s eta 0:00:011\n",
      "\u001b[?25hRequirement already satisfied: pyparsing>=2.0.2 in /Users/fabiancastano/Library/Python/2.7/lib/python/site-packages (from packaging~=20.9->tensorflowjs) (2.4.7)\n",
      "Requirement already satisfied: futures>=2.2.0; python_version < \"3.2\" in /Users/fabiancastano/Library/Python/2.7/lib/python/site-packages (from grpcio==1.39.0->tensorflowjs) (3.3.0)\n",
      "Collecting h5py\n",
      "  Downloading h5py-2.10.0-cp27-cp27m-macosx_10_6_intel.whl (2.9 MB)\n",
      "\u001b[K     |████████████████████████████████| 2.9 MB 80 kB/s  eta 0:00:01\n",
      "\u001b[?25hCollecting funcsigs>=1; python_version < \"3.3\"\n",
      "  Downloading funcsigs-1.0.2-py2.py3-none-any.whl (17 kB)\n",
      "Collecting google-auth<2,>=1.6.3\n",
      "  Downloading google_auth-1.35.0-py2.py3-none-any.whl (152 kB)\n",
      "\u001b[K     |████████████████████████████████| 152 kB 4.7 MB/s eta 0:00:01\n",
      "\u001b[?25hRequirement already satisfied: setuptools>=41.0.0 in /System/Library/Frameworks/Python.framework/Versions/2.7/Extras/lib/python (from tensorboard<2.2.0,>=2.1.0->tensorflow<3,>=2.1.0->tensorflowjs) (41.0.1)\n",
      "Requirement already satisfied: requests<3,>=2.21.0 in /Users/fabiancastano/Library/Python/2.7/lib/python/site-packages (from tensorboard<2.2.0,>=2.1.0->tensorflow<3,>=2.1.0->tensorflowjs) (2.27.1)\n",
      "Collecting google-auth-oauthlib<0.5,>=0.4.1\n",
      "  Downloading google_auth_oauthlib-0.4.1-py2.py3-none-any.whl (18 kB)\n",
      "Collecting werkzeug>=0.11.15\n",
      "  Downloading Werkzeug-1.0.1-py2.py3-none-any.whl (298 kB)\n",
      "\u001b[K     |████████████████████████████████| 298 kB 4.8 MB/s eta 0:00:01\n",
      "\u001b[?25hCollecting markdown>=2.6.8\n",
      "  Downloading Markdown-3.1.1-py2.py3-none-any.whl (87 kB)\n",
      "\u001b[K     |████████████████████████████████| 87 kB 4.3 MB/s eta 0:00:011\n",
      "\u001b[?25hCollecting pyasn1-modules>=0.2.1\n",
      "  Downloading pyasn1_modules-0.2.8-py2.py3-none-any.whl (155 kB)\n",
      "\u001b[K     |████████████████████████████████| 155 kB 5.3 MB/s eta 0:00:01\n",
      "\u001b[?25hCollecting cachetools<5.0,>=2.0.0\n",
      "  Downloading cachetools-3.1.1-py2.py3-none-any.whl (11 kB)\n",
      "Collecting rsa<4.6; python_version < \"3.6\"\n",
      "  Downloading rsa-4.5-py2.py3-none-any.whl (36 kB)\n",
      "Requirement already satisfied: certifi>=2017.4.17 in /Users/fabiancastano/Library/Python/2.7/lib/python/site-packages (from requests<3,>=2.21.0->tensorboard<2.2.0,>=2.1.0->tensorflow<3,>=2.1.0->tensorflowjs) (2021.10.8)\n",
      "Requirement already satisfied: urllib3<1.27,>=1.21.1 in /Users/fabiancastano/Library/Python/2.7/lib/python/site-packages (from requests<3,>=2.21.0->tensorboard<2.2.0,>=2.1.0->tensorflow<3,>=2.1.0->tensorflowjs) (1.26.9)\n",
      "Requirement already satisfied: chardet<5,>=3.0.2; python_version < \"3\" in /Users/fabiancastano/Library/Python/2.7/lib/python/site-packages (from requests<3,>=2.21.0->tensorboard<2.2.0,>=2.1.0->tensorflow<3,>=2.1.0->tensorflowjs) (4.0.0)\n",
      "Requirement already satisfied: idna<3,>=2.5; python_version < \"3\" in /Users/fabiancastano/Library/Python/2.7/lib/python/site-packages (from requests<3,>=2.21.0->tensorboard<2.2.0,>=2.1.0->tensorflow<3,>=2.1.0->tensorflowjs) (2.10)\n",
      "Collecting requests-oauthlib>=0.7.0\n",
      "  Downloading requests_oauthlib-1.3.1-py2.py3-none-any.whl (23 kB)\n",
      "Collecting pyasn1<0.5.0,>=0.4.6\n",
      "  Downloading pyasn1-0.4.8-py2.py3-none-any.whl (77 kB)\n",
      "\u001b[K     |████████████████████████████████| 77 kB 2.7 MB/s eta 0:00:01\n",
      "\u001b[?25hCollecting oauthlib>=3.0.0\n",
      "  Downloading oauthlib-3.1.0-py2.py3-none-any.whl (147 kB)\n",
      "\u001b[K     |████████████████████████████████| 147 kB 4.6 MB/s eta 0:00:01\n",
      "\u001b[?25hBuilding wheels for collected packages: regex, termcolor, opt-einsum, gast, keras-applications, absl-py\n",
      "  Building wheel for regex (setup.py) ... \u001b[?25ldone\n",
      "\u001b[?25h  Created wheel for regex: filename=regex-2021.11.10-cp27-cp27m-macosx_10_15_x86_64.whl size=255456 sha256=0d9b284f77b43cdd791b3c67d252104ced2d0195712f4b1ba80ec2232ec431ea\n",
      "  Stored in directory: /Users/fabiancastano/Library/Caches/pip/wheels/49/b2/f8/e09563987c2d5d933ee3e652e96183f83c7d2fd34e4f7c1ae1\n",
      "  Building wheel for termcolor (setup.py) ... \u001b[?25ldone\n",
      "\u001b[?25h  Created wheel for termcolor: filename=termcolor-1.1.0-py2-none-any.whl size=4830 sha256=48c67acb9e23e42094a8f7df0fd17579bb994986186123723a1bb5755b4d2773\n",
      "  Stored in directory: /Users/fabiancastano/Library/Caches/pip/wheels/48/54/87/2f4d1a48c87e43906477a3c93d9663c49ca092046d5a4b00b4\n",
      "  Building wheel for opt-einsum (setup.py) ... \u001b[?25ldone\n",
      "\u001b[?25h  Created wheel for opt-einsum: filename=opt_einsum-2.3.2-py2-none-any.whl size=49881 sha256=656e624c403a3604867fabd8e570f1bfd56f9faee3a8645fc21f466273b2867e\n",
      "  Stored in directory: /Users/fabiancastano/Library/Caches/pip/wheels/ef/c4/c2/d0b07dd2a54f4d583a5de0e6ce5eb7a1832961b9a10d1ec953\n",
      "  Building wheel for gast (setup.py) ... \u001b[?25ldone\n",
      "\u001b[?25h  Created wheel for gast: filename=gast-0.2.2-py2-none-any.whl size=7539 sha256=3249763746cfdf5a9a850898de819988ee804a39fabf18ec24409b30e5e0807a\n",
      "  Stored in directory: /Users/fabiancastano/Library/Caches/pip/wheels/0f/10/f7/29260ef8a721b90061c8c70a4f0130a64036e8dafe15acc097\n",
      "  Building wheel for keras-applications (setup.py) ... \u001b[?25ldone\n",
      "\u001b[?25h  Created wheel for keras-applications: filename=Keras_Applications-1.0.8-py2-none-any.whl size=50702 sha256=a4aae817e7f567259b810027fff3c8931081ab736b0821a1f31cdb11fda7161f\n",
      "  Stored in directory: /Users/fabiancastano/Library/Caches/pip/wheels/71/a0/64/e2e0c93740e0460f4b7f036141b7c73b5e44ff38f690ddff9f\n",
      "  Building wheel for absl-py (setup.py) ... \u001b[?25ldone\n",
      "\u001b[?25h  Created wheel for absl-py: filename=absl_py-0.15.0-py2-none-any.whl size=132008 sha256=b0f9da58037ea50e58ea7e9ab27d22b889593ef475ad28d2eb4bdde217b43132\n",
      "  Stored in directory: /Users/fabiancastano/Library/Caches/pip/wheels/fd/44/71/68b195f38ba3088221a3ec364865a7e1374e65b4346396b329\n",
      "Successfully built regex termcolor opt-einsum gast keras-applications absl-py\n",
      "Installing collected packages: keras-preprocessing, termcolor, opt-einsum, gast, h5py, keras-applications, tensorflow-estimator, protobuf, funcsigs, mock, absl-py, pyasn1, pyasn1-modules, cachetools, rsa, google-auth, grpcio, oauthlib, requests-oauthlib, google-auth-oauthlib, werkzeug, markdown, tensorboard, scipy, astor, backports.weakref, wrapt, google-pasta, tensorflow, packaging, tensorflow-hub, regex, tensorflowjs\n",
      "\u001b[33m  WARNING: The scripts pyrsa-decrypt, pyrsa-encrypt, pyrsa-keygen, pyrsa-priv2pub, pyrsa-sign and pyrsa-verify are installed in '/Users/fabiancastano/Library/Python/2.7/bin' which is not on PATH.\n",
      "  Consider adding this directory to PATH or, if you prefer to suppress this warning, use --no-warn-script-location.\u001b[0m\n",
      "\u001b[33m  WARNING: The script google-oauthlib-tool is installed in '/Users/fabiancastano/Library/Python/2.7/bin' which is not on PATH.\n",
      "  Consider adding this directory to PATH or, if you prefer to suppress this warning, use --no-warn-script-location.\u001b[0m\n",
      "\u001b[33m  WARNING: The script markdown_py is installed in '/Users/fabiancastano/Library/Python/2.7/bin' which is not on PATH.\n",
      "  Consider adding this directory to PATH or, if you prefer to suppress this warning, use --no-warn-script-location.\u001b[0m\n",
      "\u001b[33m  WARNING: The script tensorboard is installed in '/Users/fabiancastano/Library/Python/2.7/bin' which is not on PATH.\n",
      "  Consider adding this directory to PATH or, if you prefer to suppress this warning, use --no-warn-script-location.\u001b[0m\n",
      "\u001b[33m  WARNING: The scripts estimator_ckpt_converter, saved_model_cli, tensorboard, tf_upgrade_v2, tflite_convert, toco and toco_from_protos are installed in '/Users/fabiancastano/Library/Python/2.7/bin' which is not on PATH.\n",
      "  Consider adding this directory to PATH or, if you prefer to suppress this warning, use --no-warn-script-location.\u001b[0m\n",
      "  Attempting uninstall: packaging\n",
      "    Found existing installation: packaging 20.4\n",
      "    Uninstalling packaging-20.4:\n",
      "      Successfully uninstalled packaging-20.4\n",
      "\u001b[33m  WARNING: The scripts make_image_classifier and make_nearest_neighbour_index are installed in '/Users/fabiancastano/Library/Python/2.7/bin' which is not on PATH.\n",
      "  Consider adding this directory to PATH or, if you prefer to suppress this warning, use --no-warn-script-location.\u001b[0m\n",
      "\u001b[33m  WARNING: The scripts tensorflowjs_converter and tensorflowjs_wizard are installed in '/Users/fabiancastano/Library/Python/2.7/bin' which is not on PATH.\n",
      "  Consider adding this directory to PATH or, if you prefer to suppress this warning, use --no-warn-script-location.\u001b[0m\n",
      "Successfully installed absl-py-0.15.0 astor-0.8.1 backports.weakref-1.0.post1 cachetools-3.1.1 funcsigs-1.0.2 gast-0.2.2 google-auth-1.35.0 google-auth-oauthlib-0.4.1 google-pasta-0.2.0 grpcio-1.39.0 h5py-2.10.0 keras-applications-1.0.8 keras-preprocessing-1.1.2 markdown-3.1.1 mock-3.0.5 oauthlib-3.1.0 opt-einsum-2.3.2 packaging-20.9 protobuf-3.17.3 pyasn1-0.4.8 pyasn1-modules-0.2.8 regex-2021.11.10 requests-oauthlib-1.3.1 rsa-4.5 scipy-1.2.2 tensorboard-2.1.0 tensorflow-2.1.0 tensorflow-estimator-2.1.0 tensorflow-hub-0.9.0 tensorflowjs-3.18.0 termcolor-1.1.0 werkzeug-1.0.1 wrapt-1.14.1\n"
     ]
    }
   ],
   "source": [
    "#Para convertirlo a tensorflow.js, primero debemos instalar la libreria\n",
    "!pip install tensorflowjs"
   ]
  },
  {
   "cell_type": "code",
   "execution_count": 7,
   "metadata": {},
   "outputs": [],
   "source": [
    "#Crear carpeta donde se colocaran los archivos resultantes\n",
    "!mkdir carpetaTemp"
   ]
  },
  {
   "cell_type": "code",
   "execution_count": 10,
   "metadata": {},
   "outputs": [
    {
     "name": "stdout",
     "output_type": "stream",
     "text": [
      "/System/Library/Frameworks/Python.framework/Versions/2.7/Extras/lib/python/OpenSSL/crypto.py:12: CryptographyDeprecationWarning: Python 2 is no longer supported by the Python core team. Support for it is now deprecated in cryptography, and will be removed in the next release.\n",
      "  from cryptography import x509\n"
     ]
    }
   ],
   "source": [
    "#Realizar la exportacion a la carpeta de salida\n",
    "# !\"C:\\Users\\fabian\\AppData\\Roaming\\Python\\Python310\\Scripts\\tensorflowjs_converter\" --input_format keras celsius_to_fahrenheit.h5 carpetaTemp\n",
    "# !/usr/local/bin/tensorflowjs_converter --input_format keras celsius_to_fahrenheit.h5 carpetaTemp\n",
    "!/Users/fabiancastano/Library/Python/2.7/bin/tensorflowjs_converter --input_format keras celsius_to_fahrenheit.h5 carpetaTemp"
   ]
  }
 ],
 "metadata": {
  "kernelspec": {
   "display_name": "Python 3.8.5 64-bit",
   "language": "python",
   "name": "python3"
  },
  "language_info": {
   "codemirror_mode": {
    "name": "ipython",
    "version": 3
   },
   "file_extension": ".py",
   "mimetype": "text/x-python",
   "name": "python",
   "nbconvert_exporter": "python",
   "pygments_lexer": "ipython3",
   "version": "3.8.5"
  },
  "orig_nbformat": 4,
  "vscode": {
   "interpreter": {
    "hash": "aee8b7b246df8f9039afb4144a1f6fd8d2ca17a180786b69acc140d282b71a49"
   }
  }
 },
 "nbformat": 4,
 "nbformat_minor": 2
}
